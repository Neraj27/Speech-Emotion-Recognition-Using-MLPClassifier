{
 "cells": [
  {
   "cell_type": "code",
   "execution_count": 1,
   "id": "7687a831-105b-4190-b8f8-f0dc8af00e0e",
   "metadata": {},
   "outputs": [],
   "source": [
    "import librosa\n",
    "import soundfile\n",
    "import os, glob, pickle\n",
    "import numpy as np\n",
    "from sklearn.model_selection import train_test_split\n",
    "from sklearn.neural_network import MLPClassifier\n",
    "from sklearn.metrics import accuracy_score"
   ]
  },
  {
   "cell_type": "code",
   "execution_count": 2,
   "id": "178e861c-52ee-470d-bc23-af125a838f23",
   "metadata": {},
   "outputs": [],
   "source": [
    "import librosa\n",
    "import soundfile\n",
    "import numpy as np\n",
    "\n",
    "# Function to extract features from audio file\n",
    "def extract_feature(file_name, mfcc, chroma, mel):\n",
    "    with soundfile.SoundFile(file_name) as sound_file:\n",
    "        X = sound_file.read(dtype=\"float32\")\n",
    "        sample_rate = sound_file.samplerate\n",
    "        if chroma:\n",
    "            stft = np.abs(librosa.stft(X))\n",
    "        result = np.array([])\n",
    "        if mfcc:\n",
    "            mfccs = np.mean(librosa.feature.mfcc(y=X, sr=sample_rate, n_mfcc=40).T, axis=0)\n",
    "            result = np.hstack((result, mfccs))\n",
    "        if chroma:\n",
    "            chroma = np.mean(librosa.feature.chroma_stft(S=stft, sr=sample_rate).T, axis=0)\n",
    "            result = np.hstack((result, chroma))\n",
    "        if mel:\n",
    "            mel = np.mean(librosa.feature.melspectrogram(y=X, sr=sample_rate).T, axis=0)\n",
    "            result = np.hstack((result, mel))\n",
    "    return result\n"
   ]
  },
  {
   "cell_type": "code",
   "execution_count": 3,
   "id": "5d782ed6-6712-439e-a786-fd4495626a88",
   "metadata": {},
   "outputs": [],
   "source": [
    "#Emotions in the RAVDESS dataset\n",
    "emotions={\n",
    "  '01':'neutral',\n",
    "  '02':'calm',\n",
    "  '03':'happy',\n",
    "  '04':'sad',\n",
    "  '05':'angry',\n",
    "  '06':'fearful',\n",
    "  '07':'disgust',\n",
    "  '08':'surprised'\n",
    "}\n",
    "\n",
    "#Emotions to observe\n",
    "observed_emotions=['calm', 'happy', 'fearful', 'disgust']"
   ]
  },
  {
   "cell_type": "code",
   "execution_count": 4,
   "id": "091e5228-fc2e-4fa7-80da-247e00620c08",
   "metadata": {},
   "outputs": [
    {
     "name": "stdout",
     "output_type": "stream",
     "text": [
      "['calm', 'happy', 'fearful', 'disgust']\n"
     ]
    }
   ],
   "source": [
    "print(observed_emotions)"
   ]
  },
  {
   "cell_type": "code",
   "execution_count": 5,
   "id": "7dc84a93-f8d5-41d0-be65-45b2a5b5473e",
   "metadata": {},
   "outputs": [],
   "source": [
    "#Load the data and extract features for each sound file\n",
    "def load_data(test_size=0.2):\n",
    "    x,y=[],[]\n",
    "    for file in glob.glob(\"C:\\\\Users\\\\NERAJAKSHA\\\\Desktop\\\\New folder\\\\ravdess data\\\\Actor_*\\\\*.wav\"):\n",
    "        file_name=os.path.basename(file)\n",
    "        emotion=emotions[file_name.split(\"-\")[2]]\n",
    "        if emotion not in observed_emotions:\n",
    "            continue\n",
    "        feature=extract_feature(file, mfcc=True, chroma=True, mel=True)\n",
    "        x.append(feature)\n",
    "        y.append(emotion)\n",
    "    return train_test_split(np.array(x), y, test_size=test_size, random_state=9)"
   ]
  },
  {
   "cell_type": "code",
   "execution_count": 6,
   "id": "a9198302-6a63-428e-996e-76a2d664d98e",
   "metadata": {},
   "outputs": [],
   "source": [
    "#Split the dataset\n",
    "x_train,x_test,y_train,y_test=load_data(test_size=0.25)"
   ]
  },
  {
   "cell_type": "code",
   "execution_count": 7,
   "id": "57743ae0-97a5-4ecf-8ea0-698aeaed4902",
   "metadata": {},
   "outputs": [
    {
     "name": "stdout",
     "output_type": "stream",
     "text": [
      "[[-5.22061890e+02  3.50668907e+01  3.75342965e+00 ...  1.65243138e-04\n",
      "   1.04321596e-04  6.55571566e-05]\n",
      " [-6.41227722e+02  4.49487762e+01 -1.85174167e+00 ...  3.89261913e-05\n",
      "   3.05255380e-05  2.94166657e-05]\n",
      " [-6.50705750e+02  5.30211639e+01 -4.92040396e+00 ...  4.75216802e-05\n",
      "   3.46632551e-05  1.62844444e-05]\n",
      " ...\n",
      " [-5.50096191e+02  1.70297680e+01 -1.14575634e+01 ...  1.51764631e-04\n",
      "   1.16828531e-04  8.47479314e-05]\n",
      " [-5.55357605e+02  4.71569710e+01  1.10750742e+01 ...  1.61086471e-04\n",
      "   1.04962470e-04  6.52811723e-05]\n",
      " [-5.04816345e+02  3.53618660e+01 -1.43495779e+01 ...  6.08151546e-04\n",
      "   5.55269653e-04  4.47782222e-04]] [[-6.01385986e+02  6.33781929e+01 -1.15760441e+01 ...  7.30556485e-06\n",
      "   4.64438199e-06  1.78243295e-06]\n",
      " [-7.86435913e+02  5.99123230e+01  2.08771191e+01 ...  4.30930669e-07\n",
      "   4.01358051e-07  4.06331111e-07]\n",
      " [-5.60618164e+02  5.78945961e+01 -8.87167645e+00 ...  6.46989676e-04\n",
      "   3.31015413e-04  1.85833647e-04]\n",
      " ...\n",
      " [-4.44762360e+02  2.36132107e+01 -1.48354664e+01 ...  8.65290698e-04\n",
      "   5.16015454e-04  3.73600255e-04]\n",
      " [-5.96042603e+02  6.76807480e+01  1.72730577e+00 ...  2.92376462e-05\n",
      "   2.20639486e-05  1.13877441e-05]\n",
      " [-6.95510803e+02  4.46803703e+01 -7.45934153e+00 ...  2.15333694e-05\n",
      "   1.84784367e-05  1.01300348e-05]]\n"
     ]
    }
   ],
   "source": [
    "print(x_train,x_test)"
   ]
  },
  {
   "cell_type": "code",
   "execution_count": 8,
   "id": "eea36f85-0614-4512-8d7e-ea0e817fd212",
   "metadata": {},
   "outputs": [
    {
     "name": "stdout",
     "output_type": "stream",
     "text": [
      "(576, 192)\n"
     ]
    }
   ],
   "source": [
    "#shape of the training and testing datasets\n",
    "print((x_train.shape[0], x_test.shape[0]))"
   ]
  },
  {
   "cell_type": "code",
   "execution_count": 9,
   "id": "e5262b64-c44e-426a-afcb-f894cbda3cbd",
   "metadata": {},
   "outputs": [
    {
     "name": "stdout",
     "output_type": "stream",
     "text": [
      "Features extracted: 180\n"
     ]
    }
   ],
   "source": [
    "#number of features extracted\n",
    "print(f'Features extracted: {x_train.shape[1]}')"
   ]
  },
  {
   "cell_type": "code",
   "execution_count": 10,
   "id": "2e99c611-1744-4198-9e5d-94e58ad46157",
   "metadata": {},
   "outputs": [],
   "source": [
    "#initilize Multi layer perceptron classifier\n",
    "model=MLPClassifier(alpha=0.01,batch_size=256,epsilon=1e-08,hidden_layer_sizes=(300,), learning_rate='adaptive',max_iter=1800)"
   ]
  },
  {
   "cell_type": "code",
   "execution_count": 11,
   "id": "cf427fad-c763-4d36-8898-8e315fd4e550",
   "metadata": {},
   "outputs": [
    {
     "data": {
      "text/html": [
       "<style>#sk-container-id-1 {color: black;background-color: white;}#sk-container-id-1 pre{padding: 0;}#sk-container-id-1 div.sk-toggleable {background-color: white;}#sk-container-id-1 label.sk-toggleable__label {cursor: pointer;display: block;width: 100%;margin-bottom: 0;padding: 0.3em;box-sizing: border-box;text-align: center;}#sk-container-id-1 label.sk-toggleable__label-arrow:before {content: \"▸\";float: left;margin-right: 0.25em;color: #696969;}#sk-container-id-1 label.sk-toggleable__label-arrow:hover:before {color: black;}#sk-container-id-1 div.sk-estimator:hover label.sk-toggleable__label-arrow:before {color: black;}#sk-container-id-1 div.sk-toggleable__content {max-height: 0;max-width: 0;overflow: hidden;text-align: left;background-color: #f0f8ff;}#sk-container-id-1 div.sk-toggleable__content pre {margin: 0.2em;color: black;border-radius: 0.25em;background-color: #f0f8ff;}#sk-container-id-1 input.sk-toggleable__control:checked~div.sk-toggleable__content {max-height: 200px;max-width: 100%;overflow: auto;}#sk-container-id-1 input.sk-toggleable__control:checked~label.sk-toggleable__label-arrow:before {content: \"▾\";}#sk-container-id-1 div.sk-estimator input.sk-toggleable__control:checked~label.sk-toggleable__label {background-color: #d4ebff;}#sk-container-id-1 div.sk-label input.sk-toggleable__control:checked~label.sk-toggleable__label {background-color: #d4ebff;}#sk-container-id-1 input.sk-hidden--visually {border: 0;clip: rect(1px 1px 1px 1px);clip: rect(1px, 1px, 1px, 1px);height: 1px;margin: -1px;overflow: hidden;padding: 0;position: absolute;width: 1px;}#sk-container-id-1 div.sk-estimator {font-family: monospace;background-color: #f0f8ff;border: 1px dotted black;border-radius: 0.25em;box-sizing: border-box;margin-bottom: 0.5em;}#sk-container-id-1 div.sk-estimator:hover {background-color: #d4ebff;}#sk-container-id-1 div.sk-parallel-item::after {content: \"\";width: 100%;border-bottom: 1px solid gray;flex-grow: 1;}#sk-container-id-1 div.sk-label:hover label.sk-toggleable__label {background-color: #d4ebff;}#sk-container-id-1 div.sk-serial::before {content: \"\";position: absolute;border-left: 1px solid gray;box-sizing: border-box;top: 0;bottom: 0;left: 50%;z-index: 0;}#sk-container-id-1 div.sk-serial {display: flex;flex-direction: column;align-items: center;background-color: white;padding-right: 0.2em;padding-left: 0.2em;position: relative;}#sk-container-id-1 div.sk-item {position: relative;z-index: 1;}#sk-container-id-1 div.sk-parallel {display: flex;align-items: stretch;justify-content: center;background-color: white;position: relative;}#sk-container-id-1 div.sk-item::before, #sk-container-id-1 div.sk-parallel-item::before {content: \"\";position: absolute;border-left: 1px solid gray;box-sizing: border-box;top: 0;bottom: 0;left: 50%;z-index: -1;}#sk-container-id-1 div.sk-parallel-item {display: flex;flex-direction: column;z-index: 1;position: relative;background-color: white;}#sk-container-id-1 div.sk-parallel-item:first-child::after {align-self: flex-end;width: 50%;}#sk-container-id-1 div.sk-parallel-item:last-child::after {align-self: flex-start;width: 50%;}#sk-container-id-1 div.sk-parallel-item:only-child::after {width: 0;}#sk-container-id-1 div.sk-dashed-wrapped {border: 1px dashed gray;margin: 0 0.4em 0.5em 0.4em;box-sizing: border-box;padding-bottom: 0.4em;background-color: white;}#sk-container-id-1 div.sk-label label {font-family: monospace;font-weight: bold;display: inline-block;line-height: 1.2em;}#sk-container-id-1 div.sk-label-container {text-align: center;}#sk-container-id-1 div.sk-container {/* jupyter's `normalize.less` sets `[hidden] { display: none; }` but bootstrap.min.css set `[hidden] { display: none !important; }` so we also need the `!important` here to be able to override the default hidden behavior on the sphinx rendered scikit-learn.org. See: https://github.com/scikit-learn/scikit-learn/issues/21755 */display: inline-block !important;position: relative;}#sk-container-id-1 div.sk-text-repr-fallback {display: none;}</style><div id=\"sk-container-id-1\" class=\"sk-top-container\"><div class=\"sk-text-repr-fallback\"><pre>MLPClassifier(alpha=0.01, batch_size=256, hidden_layer_sizes=(300,),\n",
       "              learning_rate=&#x27;adaptive&#x27;, max_iter=1800)</pre><b>In a Jupyter environment, please rerun this cell to show the HTML representation or trust the notebook. <br />On GitHub, the HTML representation is unable to render, please try loading this page with nbviewer.org.</b></div><div class=\"sk-container\" hidden><div class=\"sk-item\"><div class=\"sk-estimator sk-toggleable\"><input class=\"sk-toggleable__control sk-hidden--visually\" id=\"sk-estimator-id-1\" type=\"checkbox\" checked><label for=\"sk-estimator-id-1\" class=\"sk-toggleable__label sk-toggleable__label-arrow\">MLPClassifier</label><div class=\"sk-toggleable__content\"><pre>MLPClassifier(alpha=0.01, batch_size=256, hidden_layer_sizes=(300,),\n",
       "              learning_rate=&#x27;adaptive&#x27;, max_iter=1800)</pre></div></div></div></div></div>"
      ],
      "text/plain": [
       "MLPClassifier(alpha=0.01, batch_size=256, hidden_layer_sizes=(300,),\n",
       "              learning_rate='adaptive', max_iter=1800)"
      ]
     },
     "execution_count": 11,
     "metadata": {},
     "output_type": "execute_result"
    }
   ],
   "source": [
    "#train the model\n",
    "model.fit(x_train,y_train)"
   ]
  },
  {
   "cell_type": "code",
   "execution_count": 12,
   "id": "470a0edb-c283-4296-8e22-5f92903c2cac",
   "metadata": {},
   "outputs": [],
   "source": [
    "#predict test set\n",
    "y_pred=model.predict(x_test)"
   ]
  },
  {
   "cell_type": "code",
   "execution_count": 13,
   "id": "e662074f-d98d-4fc9-b93e-3e89e5fc8501",
   "metadata": {},
   "outputs": [
    {
     "name": "stdout",
     "output_type": "stream",
     "text": [
      "accuracy:72.40%\n"
     ]
    }
   ],
   "source": [
    "#accuracy of model\n",
    "accuracy=accuracy_score(y_true=y_test,y_pred=y_pred)\n",
    "print(\"accuracy:{:.2f}%\".format(accuracy*100))"
   ]
  },
  {
   "cell_type": "code",
   "execution_count": 14,
   "id": "73bd1bff-1458-4e03-a16c-429074296e7e",
   "metadata": {},
   "outputs": [
    {
     "name": "stdout",
     "output_type": "stream",
     "text": [
      "Model saved to speech_emotion_recognition_model.pkl\n"
     ]
    }
   ],
   "source": [
    "import pickle\n",
    "model_filename=\"speech_emotion_recognition_model.pkl\"\n",
    "#save model to file\n",
    "with open(model_filename,'wb') as file:\n",
    "    pickle.dump(model,file)\n",
    "print(f\"Model saved to {model_filename}\")"
   ]
  },
  {
   "cell_type": "code",
   "execution_count": 15,
   "id": "9b09d4d2-2780-4608-adbc-8d3bdc22bc2c",
   "metadata": {},
   "outputs": [
    {
     "name": "stdout",
     "output_type": "stream",
     "text": [
      "Model Loaded success!\n"
     ]
    }
   ],
   "source": [
    "#load the model from file\n",
    "with open(model_filename,'rb') as file:\n",
    "    loaded_model=pickle.load(file)\n",
    "print(\"Model Loaded success!\")"
   ]
  },
  {
   "cell_type": "code",
   "execution_count": 16,
   "id": "67036352-97b8-4db7-9556-a425b5f23435",
   "metadata": {},
   "outputs": [
    {
     "name": "stdout",
     "output_type": "stream",
     "text": [
      "hi\n"
     ]
    }
   ],
   "source": [
    "print(\"hi\")"
   ]
  },
  {
   "cell_type": "code",
   "execution_count": 20,
   "id": "67301627-8196-4c41-be9b-e6cfcef9ef07",
   "metadata": {},
   "outputs": [
    {
     "name": "stdin",
     "output_type": "stream",
     "text": [
      "Please enter the path to the audio file:  C:\\Users\\NERAJAKSHA\\Desktop\\New folder\\ravdess data\\Actor_17\\03-01-05-02-02-01-17.wav\n"
     ]
    },
    {
     "name": "stdout",
     "output_type": "stream",
     "text": [
      "The predicted emotion is: fearful\n"
     ]
    }
   ],
   "source": [
    "import os\n",
    "import librosa\n",
    "import numpy as np\n",
    "import pickle\n",
    "import soundfile as sf\n",
    "\n",
    "# Function to extract features\n",
    "def extract_feature(file_name, mfcc=True, chroma=True, mel=True):\n",
    "    with sf.SoundFile(file_name) as sound_file:\n",
    "        X = sound_file.read(dtype=\"float32\")\n",
    "        sample_rate = sound_file.samplerate\n",
    "        result = np.array([])\n",
    "        if mfcc:\n",
    "            mfccs = np.mean(librosa.feature.mfcc(y=X, sr=sample_rate, n_mfcc=40).T, axis=0)\n",
    "            result = np.hstack((result, mfccs))\n",
    "        if chroma:\n",
    "            stft = np.abs(librosa.stft(X))\n",
    "            chroma = np.mean(librosa.feature.chroma_stft(S=stft, sr=sample_rate).T, axis=0)\n",
    "            result = np.hstack((result, chroma))\n",
    "        if mel:\n",
    "            mel = np.mean(librosa.feature.melspectrogram(y=X, sr=sample_rate).T, axis=0)\n",
    "            result = np.hstack((result, mel))\n",
    "    return result\n",
    "\n",
    "# Function to choose file and predict emotion\n",
    "def choose_file_and_predict():\n",
    "    file_path = input(\"Please enter the path to the audio file: \")\n",
    "\n",
    "    if os.path.exists(file_path) and file_path.endswith('.wav'):\n",
    "        # Extract features from the chosen file\n",
    "        features = extract_feature(file_path, mfcc=True, chroma=True, mel=True)\n",
    "        features = features.reshape(1, -1)\n",
    "\n",
    "        # Load the trained model\n",
    "        with open('speech_emotion_recognition_model.pkl', 'rb') as model_file:\n",
    "            model = pickle.load(model_file)\n",
    "\n",
    "        # Predict the emotion\n",
    "        prediction = model.predict(features)\n",
    "        print(f\"The predicted emotion is: {prediction[0]}\")\n",
    "    else:\n",
    "        print(\"Invalid file path or file format. Please provide a valid .wav file.\")\n",
    "\n",
    "# Call the function to choose a file and predict emotion\n",
    "choose_file_and_predict()\n"
   ]
  }
 ],
 "metadata": {
  "kernelspec": {
   "display_name": "Python 3 (ipykernel)",
   "language": "python",
   "name": "python3"
  },
  "language_info": {
   "codemirror_mode": {
    "name": "ipython",
    "version": 3
   },
   "file_extension": ".py",
   "mimetype": "text/x-python",
   "name": "python",
   "nbconvert_exporter": "python",
   "pygments_lexer": "ipython3",
   "version": "3.11.7"
  }
 },
 "nbformat": 4,
 "nbformat_minor": 5
}
